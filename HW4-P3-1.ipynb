{
 "cells": [
  {
   "cell_type": "code",
   "execution_count": 1,
   "id": "7e3d95ca-3246-42ca-8ebd-b7447696aa81",
   "metadata": {},
   "outputs": [],
   "source": [
    "import torch\n",
    "from torch import nn\n",
    "from torch.nn import functional as F"
   ]
  },
  {
   "cell_type": "code",
   "execution_count": 2,
   "id": "fc5ab23e-dfba-4391-8183-321bbedd0030",
   "metadata": {},
   "outputs": [],
   "source": [
    "class ParallelModule(nn.Module):\n",
    "    def __init__(self, net1, net2):\n",
    "        super(ParallelModule, self).__init__()\n",
    "        self.net1 = net1\n",
    "        self.net2 = net2\n",
    "\n",
    "    def forward(self, x):\n",
    "        output1 = self.net1(x)\n",
    "        output2 = self.net2(x)\n",
    "        concatenated_output = torch.cat((output1, output2), dim=1)\n",
    "        return concatenated_output"
   ]
  },
  {
   "cell_type": "code",
   "execution_count": 3,
   "id": "39f983e1-4212-457e-a678-b62e32fdbf9d",
   "metadata": {},
   "outputs": [],
   "source": [
    "# Assume you have two networks with appropriate architectures\n",
    "net1 = nn.Linear(in_features=10, out_features=5)\n",
    "net2 = nn.Linear(in_features=10, out_features=3)"
   ]
  },
  {
   "cell_type": "code",
   "execution_count": 4,
   "id": "7153f4a7-dea5-4500-9015-cca59ff0871b",
   "metadata": {},
   "outputs": [],
   "source": [
    "parallel_module = ParallelModule(net1, net2)"
   ]
  },
  {
   "cell_type": "code",
   "execution_count": 5,
   "id": "92488e84-f894-45c5-92b3-dde913fe7580",
   "metadata": {},
   "outputs": [],
   "source": [
    "input_tensor = torch.randn((2, 10))  # Batch size of 2, input size of 10"
   ]
  },
  {
   "cell_type": "code",
   "execution_count": 6,
   "id": "928e413f-d47f-448d-8159-86bf81563a2a",
   "metadata": {},
   "outputs": [],
   "source": [
    "output = parallel_module(input_tensor)"
   ]
  },
  {
   "cell_type": "code",
   "execution_count": 7,
   "id": "892836fd-3146-4e2b-8d97-2e13f11d37f6",
   "metadata": {},
   "outputs": [
    {
     "name": "stdout",
     "output_type": "stream",
     "text": [
      "Input size: torch.Size([2, 10])\n",
      "Output size: torch.Size([2, 8])\n"
     ]
    }
   ],
   "source": [
    "print(\"Input size:\", input_tensor.shape)\n",
    "print(\"Output size:\", output.shape)"
   ]
  }
 ],
 "metadata": {
  "kernelspec": {
   "display_name": "Python 3 (ipykernel)",
   "language": "python",
   "name": "python3"
  },
  "language_info": {
   "codemirror_mode": {
    "name": "ipython",
    "version": 3
   },
   "file_extension": ".py",
   "mimetype": "text/x-python",
   "name": "python",
   "nbconvert_exporter": "python",
   "pygments_lexer": "ipython3",
   "version": "3.11.3"
  }
 },
 "nbformat": 4,
 "nbformat_minor": 5
}
