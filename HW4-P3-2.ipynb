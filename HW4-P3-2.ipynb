{
 "cells": [
  {
   "cell_type": "code",
   "execution_count": 1,
   "id": "0f3978c0-b860-48fd-b062-bdb133a33b2e",
   "metadata": {},
   "outputs": [],
   "source": [
    "import torch\n",
    "import torch.nn as nn"
   ]
  },
  {
   "cell_type": "code",
   "execution_count": 2,
   "id": "9ed926f6-652d-4235-b7c0-e3bd03da4f26",
   "metadata": {},
   "outputs": [],
   "source": [
    "#Define the Base Network Class\n",
    "class BaseNetwork(nn.Module):\n",
    "    def __init__(self, input_size, output_size):\n",
    "        super(BaseNetwork, self).__init__()\n",
    "        self.linear = nn.Linear(input_size, output_size)\n",
    "\n",
    "    def forward(self, x):\n",
    "        return self.linear(x)"
   ]
  },
  {
   "cell_type": "code",
   "execution_count": 3,
   "id": "493eb25d-12b5-4f1c-867c-7e1a8b43f360",
   "metadata": {},
   "outputs": [],
   "source": [
    "# Define the factory function\n",
    "def create_network_instances(num_instances, input_size, output_size):\n",
    "    networks = []\n",
    "    for _ in range(num_instances):\n",
    "        network_instance = BaseNetwork(input_size, output_size)\n",
    "        networks.append(network_instance)\n",
    "    return networks"
   ]
  },
  {
   "cell_type": "code",
   "execution_count": 4,
   "id": "b5d54c92-e85b-4254-8a5e-7a0c594132aa",
   "metadata": {},
   "outputs": [],
   "source": [
    "# Define concactenated network class\n",
    "class ConcatenatedNetwork(nn.Module):\n",
    "    def __init__(self, num_instances, input_size, output_size):\n",
    "        super(ConcatenatedNetwork, self).__init__()\n",
    "        self.networks = create_network_instances(num_instances, input_size, output_size)\n",
    "\n",
    "    def forward(self, x):\n",
    "        outputs = [network(x) for network in self.networks]\n",
    "        concatenated_output = torch.cat(outputs, dim=1)\n",
    "        return concatenated_output"
   ]
  },
  {
   "cell_type": "code",
   "execution_count": 5,
   "id": "410a3c7b-7687-4fda-b1fc-a63800373133",
   "metadata": {},
   "outputs": [],
   "source": [
    "# Create instance of concactenated network\n",
    "# Example usage:\n",
    "num_instances = 3\n",
    "input_size = 10\n",
    "output_size = 5\n",
    "\n",
    "concatenated_network = ConcatenatedNetwork(num_instances, input_size, output_size)"
   ]
  },
  {
   "cell_type": "code",
   "execution_count": 6,
   "id": "520ece9c-8e5b-48df-8072-795f4218b8a0",
   "metadata": {},
   "outputs": [],
   "source": [
    "# Input tensor for testing\n",
    "input_tensor = torch.randn((2, input_size))  # Batch size of 2, input size of 10"
   ]
  },
  {
   "cell_type": "code",
   "execution_count": 7,
   "id": "964fd1e0-f357-425f-8b5f-8bcaf8e2d8e8",
   "metadata": {},
   "outputs": [],
   "source": [
    "# Forward pass through concactenated network\n",
    "output = concatenated_network(input_tensor)"
   ]
  },
  {
   "cell_type": "code",
   "execution_count": 8,
   "id": "f5245956-4d72-42e9-a6cb-6a17f24b165a",
   "metadata": {},
   "outputs": [
    {
     "name": "stdout",
     "output_type": "stream",
     "text": [
      "Input size: torch.Size([2, 10])\n",
      "Output size: torch.Size([2, 15])\n"
     ]
    }
   ],
   "source": [
    "# Print input and output sizes\n",
    "print(\"Input size:\", input_tensor.shape)\n",
    "print(\"Output size:\", output.shape)"
   ]
  }
 ],
 "metadata": {
  "kernelspec": {
   "display_name": "Python 3 (ipykernel)",
   "language": "python",
   "name": "python3"
  },
  "language_info": {
   "codemirror_mode": {
    "name": "ipython",
    "version": 3
   },
   "file_extension": ".py",
   "mimetype": "text/x-python",
   "name": "python",
   "nbconvert_exporter": "python",
   "pygments_lexer": "ipython3",
   "version": "3.11.3"
  }
 },
 "nbformat": 4,
 "nbformat_minor": 5
}
